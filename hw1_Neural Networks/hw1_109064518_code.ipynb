{
  "nbformat": 4,
  "nbformat_minor": 0,
  "metadata": {
    "colab": {
      "name": "hw1_109064518_code.ipynb",
      "provenance": [],
      "collapsed_sections": [],
      "toc_visible": true
    },
    "kernelspec": {
      "name": "python3",
      "display_name": "Python 3"
    }
  },
  "cells": [
    {
      "cell_type": "markdown",
      "metadata": {
        "id": "Bfaa7VnqAoAi"
      },
      "source": [
        ""
      ]
    },
    {
      "cell_type": "markdown",
      "metadata": {
        "id": "xXKf5dMvAo5J"
      },
      "source": [
        "hw1\n",
        "###### import所需要的套件"
      ]
    },
    {
      "cell_type": "code",
      "metadata": {
        "id": "7juDZ4jOOTim"
      },
      "source": [
        "import numpy as np ## For numerical python\n",
        "import struct as st\n",
        "import matplotlib.pyplot as plt\n",
        "import time\n",
        "import math"
      ],
      "execution_count": null,
      "outputs": []
    },
    {
      "cell_type": "markdown",
      "metadata": {
        "id": "ouNKaBHskF0f"
      },
      "source": [
        "######Load mnist-training data and test data(in colab,資料從雲端硬碟抓取)\n",
        "\n",
        "\n",
        "\n"
      ]
    },
    {
      "cell_type": "code",
      "metadata": {
        "id": "SuVESOOcOXY6"
      },
      "source": [
        "trainingfilenames = {'images' : '/content/drive/My Drive/Colab Notebooks/MNIST/train-images.idx3-ubyte' ,'labels' : '/content/drive/My Drive/Colab Notebooks/MNIST/train-labels.idx1-ubyte'}\n",
        "testfilenames = {'images' : '/content/drive/My Drive/Colab Notebooks/MNIST/t10k-images.idx3-ubyte' ,'labels' : '/content/drive/My Drive/Colab Notebooks/MNIST/t10k-labels.idx1-ubyte'}\n",
        "\n",
        "data_types = {\n",
        "        0x08: ('ubyte', 'B', 1),  #0x08: unsigned byte\n",
        "        0x09: ('byte', 'b', 1),   #0x09: signed byte\n",
        "        0x0B: ('>i2', 'h', 2),   #0x0B: short (2 bytes) \n",
        "        0x0C: ('>i4', 'i', 4),   #0x0C: int (4 bytes)\n",
        "        0x0D: ('>f4', 'f', 4),   #0x0D: float (4 bytes)\n",
        "        0x0E: ('>f8', 'd', 8)}   #0x0E: double (8 bytes)\n",
        "\n"
      ],
      "execution_count": null,
      "outputs": []
    },
    {
      "cell_type": "markdown",
      "metadata": {
        "id": "07cvXHCnsm_7"
      },
      "source": [
        "######查看training data值"
      ]
    },
    {
      "cell_type": "code",
      "metadata": {
        "id": "j96_L9UPsRwF",
        "outputId": "b1443b02-2c2c-427b-a893-be2efdadde3e",
        "colab": {
          "base_uri": "https://localhost:8080/",
          "height": 118
        }
      },
      "source": [
        "#..........................................................For training dataset..............................................................\n",
        "print(\"Training Dataset.......\")\n",
        "for name in trainingfilenames.keys():\n",
        "\tif name == 'images':\n",
        "\t\ttrain_imagesfile = open(trainingfilenames[name],'rb')\n",
        "\tif name == 'labels':\n",
        "\t\ttrain_labelsfile = open(trainingfilenames[name],'rb')#,encoding='latin-1')\n",
        "\n",
        "train_imagesfile.seek(0)\n",
        "magic = st.unpack('>4B',train_imagesfile.read(4))\n",
        "if(magic[0] and magic[1])or(magic[2] not in data_types):\n",
        "\traise ValueError(\"File Format not correct\")\n",
        " \n",
        "#Information(判斷training資料的類型)\n",
        "nDim = magic[3]#判斷data維度\n",
        "dataType = data_types[magic[2]][0]#判斷data單位\n",
        "dataFormat = data_types[magic[2]][1]#判斷data形式\n",
        "dataSize = data_types[magic[2]][2]#判斷datasize\n",
        "\n",
        "\n",
        "train_imagesfile.seek(4)\n",
        "nImg = st.unpack('>I',train_imagesfile.read(4))[0] #num of images/labels\n",
        "nR = st.unpack('>I',train_imagesfile.read(4))[0] #num of rows\n",
        "nC = st.unpack('>I',train_imagesfile.read(4))[0] #num of columns\n",
        "\n",
        "train_labelsfile.seek(8) #Since no. of items = no. of images and is already read\n",
        "print(\"no. of images :: \",nImg)\n",
        "print(\"no. of rows :: \",nR)\n",
        "print(\"no. of columns :: \",nC)\n",
        "#Reading the labels\n",
        "train_labels_array = np.asarray(st.unpack('>'+dataFormat*nImg,train_labelsfile.read(nImg*dataSize))).reshape((nImg,1))\n",
        "#Reading the Image data\n",
        "nBatch = 10000\n",
        "nIter = int(math.ceil(nImg/nBatch))\n",
        "nBytes = nBatch*nR*nC*dataSize\n",
        "nBytesTot = nImg*nR*nC*dataSize\n",
        "train_images_array = np.array([])\n",
        "for i in range(0,nIter):\n",
        "\t#try:\n",
        "\ttemp_images_array = np.asarray(st.unpack('>'+dataFormat*nBytes,train_imagesfile.read(nBytes))).reshape((nBatch,nR,nC))\n",
        "\t#except:\n",
        "\t#\tnbytes = nBytesTot - (nIter-1)*nBytes\n",
        "\t#\ttemp_images_array = 255 - np.asarray(st.unpack('>'+'B'*nbytes,train_imagesfile.read(nbytes))).reshape((nBatch,nR,nC))'''\n",
        "\t#Stacking each nBatch block to form a larger block\n",
        "\tif train_images_array.size == 0:\n",
        "\t\ttrain_images_array = temp_images_array\n",
        "\telse:\n",
        "\t\ttrain_images_array = np.vstack((train_images_array,temp_images_array))\n",
        "\ttemp_images_array = np.array([])\n",
        "\n",
        "\n",
        "print(\"Training Set Labels shape ::\",train_labels_array.shape)\n",
        "print(\"Training Set Images shape ::\",train_images_array.shape)\n",
        "\n"
      ],
      "execution_count": null,
      "outputs": [
        {
          "output_type": "stream",
          "text": [
            "Training Dataset.......\n",
            "no. of images ::  60000\n",
            "no. of rows ::  28\n",
            "no. of columns ::  28\n",
            "Training Set Labels shape :: (60000, 1)\n",
            "Training Set Images shape :: (60000, 28, 28)\n"
          ],
          "name": "stdout"
        }
      ]
    },
    {
      "cell_type": "markdown",
      "metadata": {
        "id": "94fJMuUfsuFs"
      },
      "source": [
        "######查看test data資訊"
      ]
    },
    {
      "cell_type": "code",
      "metadata": {
        "id": "kDst4JhTrhsT",
        "outputId": "44bbf3a1-73d3-4ec3-dc78-1fa09d57c7ff",
        "colab": {
          "base_uri": "https://localhost:8080/",
          "height": 118
        }
      },
      "source": [
        "#..........................................................For test dataset..................................................................\n",
        "print(\"Test Dataset.......\")\n",
        "stime = time.time()\n",
        "for name in testfilenames.keys():\n",
        "\tif name == 'images':\n",
        "\t\ttest_imagesfile = open(testfilenames[name],'rb')\n",
        "\tif name == 'labels':\n",
        "\t\ttest_labelsfile = open(testfilenames[name],'rb')\n",
        "test_imagesfile.seek(0)\n",
        "magic = st.unpack('>4B',test_imagesfile.read(4))\n",
        "if(magic[0] and magic[1])or(magic[2] not in data_types):\n",
        "\traise ValueError(\"File Format not correct\")\n",
        "\n",
        "#Information(判斷training資料的類型)\n",
        "nDim = magic[3]#判斷data維度\n",
        "dataType = data_types[magic[2]][0]#判斷data單位\n",
        "dataFormat = data_types[magic[2]][1]#判斷data形式\n",
        "dataSize = data_types[magic[2]][2]#判斷datasize\n",
        "\n",
        "\n",
        "test_imagesfile.seek(4)\n",
        "nImg = st.unpack('>I',test_imagesfile.read(4))[0] #num of images/labels\n",
        "nR = st.unpack('>I',test_imagesfile.read(4))[0] #num of rows\n",
        "nC = st.unpack('>I',test_imagesfile.read(4))[0] #num of columns\n",
        "\n",
        "test_labelsfile.seek(8) #Since no. of items = no. of images and is already read\n",
        "print(\"no. of images :: \",nImg)\n",
        "print(\"no. of rows :: \",nR)\n",
        "print(\"no. of columns :: \",nC)\n",
        "#Test set\n",
        "#Reading the labels\n",
        "test_labels_array = np.asarray(st.unpack('>'+dataFormat*nImg,test_labelsfile.read(nImg*dataSize))).reshape((nImg,1))\n",
        "#Reading the Image data\n",
        "nBatch = 10000\n",
        "nIter = int(math.ceil(nImg/nBatch))\n",
        "nBytes = nBatch*nR*nC*dataSize\n",
        "nBytesTot = nImg*nR*nC*dataSize\n",
        "test_images_array = np.array([])\n",
        "for i in range(0,nIter):\n",
        "\t#try:\n",
        "\ttemp_images_array = np.asarray(st.unpack('>'+dataFormat*nBytes,test_imagesfile.read(nBytes))).reshape((nBatch,nR,nC))\n",
        "\t'''except:\n",
        "\t\tnbytes = nBytesTot - (nIter-1)*nBytes\n",
        "\t\ttemp_images_array = 255 - np.asarray(st.unpack('>'+'B'*nbytes,test_imagesfile.read(nbytes))).reshape((nBatch,nR,nC))'''\n",
        "\t#Stacking each nBatch block to form a larger block\n",
        "\tif test_images_array.size == 0:\n",
        "\t\ttest_images_array = temp_images_array\n",
        "\telse:\n",
        "\t\ttest_images_array = np.vstack((test_images_array,temp_images_array))\n",
        "\ttemp_images_array = np.array([])\n",
        "\n",
        "print(\"Test Set Labels shape ::\",test_labels_array.shape)\n",
        "print(\"Test Set Image shape ::\",test_images_array.shape)\n",
        "\n"
      ],
      "execution_count": null,
      "outputs": [
        {
          "output_type": "stream",
          "text": [
            "Test Dataset.......\n",
            "no. of images ::  10000\n",
            "no. of rows ::  28\n",
            "no. of columns ::  28\n",
            "Test Set Labels shape :: (10000, 1)\n",
            "Test Set Image shape :: (10000, 28, 28)\n"
          ],
          "name": "stdout"
        }
      ]
    },
    {
      "cell_type": "markdown",
      "metadata": {
        "id": "9A7RFkYojcZO"
      },
      "source": [
        ""
      ]
    },
    {
      "cell_type": "markdown",
      "metadata": {
        "id": "TwU7IHxyw7tY"
      },
      "source": [
        "#####Implementation1\n",
        "######將original data 分隔成 validation data and training data(3:7)"
      ]
    },
    {
      "cell_type": "code",
      "metadata": {
        "id": "CTuW1gBrZ8pv"
      },
      "source": [
        "def shuffle_split_data(image,label,flatten=False):#分割image和label的函式(共6萬筆) train:validation=7:3\n",
        "\n",
        "    \n",
        "    #noramalize x\n",
        "    X_image=image.astype(float)/255.\n",
        "    \n",
        "    \n",
        "\n",
        "    # we reserve the last 18000 training examples for validation\n",
        "    X_train, X_validation = X_image[:-18000], X_image[-18000:] \n",
        "    y_train, y_validation = label[:-18000], label[-18000:]\n",
        "\n",
        "    if flatten:\n",
        "      X_train = X_train.reshape([X_train.shape[0], -1])\n",
        "      X_validation = X_validation.reshape([X_validation.shape[0], -1])\n",
        "      \n",
        "\n",
        "    print(\"Image:\")\n",
        "    print(len(X_train),len(X_validation))\n",
        "    print(\"label:\")\n",
        "    print(len(y_train),len(y_validation))\n",
        "    return X_train,X_validation,y_train,y_validation"
      ],
      "execution_count": null,
      "outputs": []
    },
    {
      "cell_type": "code",
      "metadata": {
        "id": "7rHJKfebxlUV"
      },
      "source": [
        "def test_data(image,label,flatten=False):#test資料處理\n",
        "\n",
        "    \n",
        "    #noramalize x\n",
        "    image_test=image.astype(float)/255.\n",
        "    if flatten:\n",
        "      X_test = image_test.reshape([image_test.shape[0], -1])\n",
        "           \n",
        "    return X_test,label"
      ],
      "execution_count": null,
      "outputs": []
    },
    {
      "cell_type": "code",
      "metadata": {
        "id": "yW_58s-ztAeq",
        "outputId": "bcd1dec3-5a34-45d5-9ec9-cec1afcd4c6d",
        "colab": {
          "base_uri": "https://localhost:8080/",
          "height": 458
        }
      },
      "source": [
        "image_resize=np.reshape(train_images_array,(60000,-1))\n",
        "label_resize=np.reshape(train_labels_array,60000)\n",
        "image_train,image_validation,label_train,label_validation,=shuffle_split_data(image_resize,label_resize,flatten=True)\n",
        "image_test_resize=np.reshape(test_images_array,(10000,-1))\n",
        "label_test_resize=np.reshape(test_labels_array,10000)\n",
        "image_test,label_test=test_data(image_test_resize,label_test_resize,flatten=True)\n",
        "plt.figure(figsize=[6,6])\n",
        "for i in range(4):\n",
        "    plt.subplot(2,2,i+1)\n",
        "    plt.title(\"Label: %i\"%label_test[i])\n",
        "    plt.imshow(image_test[i].reshape([28,28]),cmap='gray')\n"
      ],
      "execution_count": null,
      "outputs": [
        {
          "output_type": "stream",
          "text": [
            "Image:\n",
            "42000 18000\n",
            "label:\n",
            "42000 18000\n"
          ],
          "name": "stdout"
        },
        {
          "output_type": "display_data",
          "data": {
            "image/png": "[encoded data removed]",
            "text/plain": [
              "<Figure size 432x432 with 4 Axes>"
            ]
          },
          "metadata": {
            "tags": [],
            "needs_background": "light"
          }
        }
      ]
    },
    {
      "cell_type": "markdown",
      "metadata": {
        "id": "gs8Sr5Y-sFSE"
      },
      "source": [
        "#####Create main class layer do forward and backward(fundamental)"
      ]
    },
    {
      "cell_type": "code",
      "metadata": {
        "id": "Vnwobx5gTKo5"
      },
      "source": [
        "from __future__ import print_function\n",
        "np.random.seed(100)#使每次隨機數相同"
      ],
      "execution_count": null,
      "outputs": []
    },
    {
      "cell_type": "markdown",
      "metadata": {
        "id": "FOIwyFUuTM_f"
      },
      "source": [
        "#####Implementation2\n",
        "######Dense neural layer:f(x)=W*X+b(>)\n",
        "*   X is an object-feature matrix of shape [batch_size, num_features]\n",
        "*   W is a weight matrix [num_features, num_outputs]\n",
        "*  b is a vector of num_outputs biases\n",
        "\n",
        "\n",
        "\n",
        "\n",
        "\n",
        "\n",
        "\n"
      ]
    },
    {
      "cell_type": "code",
      "metadata": {
        "id": "k5fq-mbBP8ma"
      },
      "source": [
        "class Layer:\n",
        "        # A dummy layer does nothing\n",
        "        #A building block. Each layer is capable of performing two things:\n",
        "        #- Process input to get output:           output = layer.forward(input)\n",
        "        # - Propagate gradients through itself:    grad_input = layer.backward(input, grad_output)\n",
        "  def __init__(self):\n",
        "\n",
        "        #initialize layer parameters (if any) and auxiliary stuff.\n",
        "        \n",
        "        \n",
        "     pass\n",
        "    \n",
        "  def forward(self, input):\n",
        "       \n",
        "        #Takes input data of shape [batch, input_units], returns output data [batch, output_units]\n",
        "        # A dummy layer just returns whatever it gets as input.\n",
        "     return input\n",
        "        #Performs a backpropagation step through the layer, with respect to the given input.\n",
        "        #To compute loss gradients w.r.t input, we need to apply chain rule (backprop):\n",
        "        #d loss / d x  = (d loss / d layer) * (d layer / d x)\n",
        "        # we already receive d loss / d layer as input, so only need to multiply it by d layer / d x.\n",
        "        # If our layer has parameters (e.g. dense layer), we also need to update them here using d loss / d layer\n",
        "  def backward(self, input, grad_output):\n",
        "               \n",
        "                # The gradient of a dummy layer is precisely grad_output, write it more explicitly\n",
        "\n",
        "     num_units = input.shape[1]\n",
        "        \n",
        "     d_layer_d_input = np.eye(num_units)\n",
        "        \n",
        "     return np.dot(grad_output, d_layer_d_input) # chain rule"
      ],
      "execution_count": null,
      "outputs": []
    },
    {
      "cell_type": "code",
      "metadata": {
        "id": "-K2PBuV2yMwD"
      },
      "source": [
        "class Dense(Layer):\n",
        "  #A dense layer is a layer which performs a learned affine transformation:f(x) = <W*x> + b\n",
        "  def __init__(self, input_units, output_units, learning_rate=0.001):\n",
        "    self.learning_rate = learning_rate\n",
        "    self.weights = np.random.normal(loc=0.0,scale = np.sqrt(2/(input_units+output_units)),size = (input_units,output_units))#對權重進行標準化,初始權重平均數為0,標準差為2/(number of inputs + number of outputs)\n",
        "    self.biases = np.zeros(output_units)\n",
        "  #Perform an affine transformation:f(x) = <W*x> + b\n",
        "  #    input shape: [batch, input_units]\n",
        "  #    output shape: [batch, output units]\n",
        "  def forward(self,input):  \n",
        "     return np.dot(input,self.weights) + self.biases\n",
        "  #Perform an affine transformation:f(x) = <W*x> + b \n",
        "  #input shape: [batch, input_units]\n",
        "  #output shape: [batch, output units]  \n",
        "  def backward(self,input,grad_output):\n",
        "    grad_input = np.dot(grad_output, self.weights.T)\n",
        "  # compute df / dx = df / d-dense * d-dense / dx,d-dense/dx=weights transposed  \n",
        "    grad_weights = np.dot(input.T, grad_output)\n",
        "    grad_biases = grad_output.mean(axis=0)*input.shape[0]\n",
        "  # compute gradient w.r.t. weights and biases(進行梯度處理)\n",
        "    assert grad_weights.shape == self.weights.shape and grad_biases.shape == self.biases.shape\n",
        "  #perform a stochastic gradient descent step\n",
        "    self.weights = self.weights - self.learning_rate * grad_weights\n",
        "    self.biases = self.biases - self.learning_rate * grad_biases\n",
        "\n",
        "    return grad_input\n",
        "\n"
      ],
      "execution_count": null,
      "outputs": []
    },
    {
      "cell_type": "markdown",
      "metadata": {
        "id": "wYzV-UtFzli0"
      },
      "source": [
        "#####Implementation3\n",
        "######ReLu layer:Nonlinearity,根據Maxout進行輸出"
      ]
    },
    {
      "cell_type": "code",
      "metadata": {
        "id": "VxmUxYcNz1YU"
      },
      "source": [
        "class ReLU(Layer):\n",
        "  def __init__(self):#ReLU layer simply applies elementwise rectified linear unit to all inputs\n",
        "    pass \n",
        "  def forward(self,input):#Apply elementwise ReLU to [batch, input_units] matrix\n",
        "    relu_forward=np.maximum(0,input)\n",
        "    return relu_forward\n",
        "  def backward(self, input, grad_output):#Compute gradient of loss w.r.t. ReLU input\n",
        "    relu_grad=input>0\n",
        "    return grad_output*relu_grad\n",
        "  "
      ],
      "execution_count": null,
      "outputs": []
    },
    {
      "cell_type": "markdown",
      "metadata": {
        "id": "ZIgVOFy4DW19"
      },
      "source": [
        "#####Implementation4\n",
        "######Softmax output(outputs the probability of a sample)"
      ]
    },
    {
      "cell_type": "code",
      "metadata": {
        "id": "4huhqQ8e0ZNV"
      },
      "source": [
        "def softmax(logits):\n",
        "   X=np.exp(logits) / np.exp(logits).sum(axis=-1,keepdims=True)\n",
        "   return X"
      ],
      "execution_count": null,
      "outputs": []
    },
    {
      "cell_type": "markdown",
      "metadata": {
        "id": "xFSksbMQHueh"
      },
      "source": [
        "#####Implementation5\n",
        "######Cross-entropy loss calculation(output of a batch of data and their labels to calculate the CE loss.)"
      ]
    },
    {
      "cell_type": "code",
      "metadata": {
        "id": "RlR1LRDtHuMi"
      },
      "source": [
        "def crossentropy_with_logits(logits,reference_answers):\n",
        "    #Compute crossentropy from logits[batch,n_classes] and ids of correct answers\n",
        "    logits_for_answers = logits[np.arange(len(logits)),reference_answers]\n",
        "    loss = - logits_for_answers + np.log(np.sum(np.exp(logits),axis=-1))\n",
        "    return loss\n",
        "def grad_crossentropy_with_logits(logits,reference_answers):\n",
        "    #Compute crossentropy gradient from logits[batch,n_classes] and ids of correct answers\n",
        "    ones_for_answers = np.zeros_like(logits)#統一將logit變為相同型式0陣列\n",
        "    ones_for_answers[np.arange(len(logits)),reference_answers] = 1\n",
        "    softmax1=softmax(logits)#softmax函式,按行相加，並且保持二維特性\n",
        "    loss_grad=(- ones_for_answers + softmax1) / logits.shape[0]\n",
        "    return loss_grad"
      ],
      "execution_count": null,
      "outputs": []
    },
    {
      "cell_type": "markdown",
      "metadata": {
        "id": "DQV-PlTdZont"
      },
      "source": [
        "######將Dense和ReLu層合併至network"
      ]
    },
    {
      "cell_type": "code",
      "metadata": {
        "id": "TqT6DzOmdOtZ"
      },
      "source": [
        "network = []\n",
        "network.append(Dense(image_train.shape[1],256))\n",
        "network.append(ReLU())\n",
        "network.append(Dense(256,128))\n",
        "network.append(ReLU())\n",
        "network.append(Dense(128,10))"
      ],
      "execution_count": null,
      "outputs": []
    },
    {
      "cell_type": "markdown",
      "metadata": {
        "id": "e58WMIaBLVrK"
      },
      "source": [
        "#####Implementation6\n",
        "#####-Feed forward\n",
        "#####-Backward propagation:Propagate the error backwards and update each parameter"
      ]
    },
    {
      "cell_type": "code",
      "metadata": {
        "id": "Y_E-AeEYHuII"
      },
      "source": [
        "def forward(network, X):\n",
        "   \n",
        "    #Compute activations of all network layers by applying them .Return a list of activations for each layer.     \n",
        "    activations = []\n",
        "    input = X\n",
        "    # 每層的迴圈\n",
        "    for l in network:\n",
        "        activations.append(l.forward(input))\n",
        "        \n",
        "        #更新input到上一層的output\n",
        "        input = activations[-1]    \n",
        "    assert len(activations) == len(network)\n",
        "    return activations\n",
        "\n",
        "def predict(network,X): #Compute network predictions. Returning indices of largest Logit probability\n",
        "    \n",
        "    logits = forward(network,X)[-1]\n",
        "    return logits.argmax(axis=-1)\n",
        "\n",
        "def loss_calculate(network,X,Y): #Compute loss\n",
        "    \n",
        "    logits = forward(network,X)[-1]\n",
        "    loss = crossentropy_with_logits(logits,Y)\n",
        "    return loss\n",
        "   \n",
        "\n",
        "def train(network,X,y):\n",
        "    \n",
        "    #Train our network on a given batch of X and y.\n",
        "    #Need to run forward to get all layer activations.\n",
        "    #Run layer.backward going from last to first layer.\n",
        "    #After called backward for all layers, all Dense layers have already made one gradient step.\n",
        "      \n",
        "    # Get the layer activations\n",
        "    layer_activations = forward(network,X)    \n",
        "    layer_inputs = [X]+layer_activations  #layer_input[i] is an input for network[i]\n",
        "    logits = layer_activations[-1]\n",
        "    \n",
        "    # Compute the loss and the initial gradient\n",
        "    loss = crossentropy_with_logits(logits,y)\n",
        "    loss_grad = grad_crossentropy_with_logits(logits,y)\n",
        "    \n",
        "    # Propagate gradients through the network,and do the \"backpropagation\" process\n",
        "    for layer_index in range(len(network))[::-1]:\n",
        "        layer = network[layer_index]\n",
        "        loss_grad = layer.backward(layer_inputs[layer_index],loss_grad) #grad w.r.t. input, also weight updates\n",
        "        \n",
        "    return np.mean(loss)\n",
        "\n",
        "  "
      ],
      "execution_count": null,
      "outputs": []
    },
    {
      "cell_type": "code",
      "metadata": {
        "id": "RvkO-U4rZSQf"
      },
      "source": [
        "from tqdm import trange#minibatch函式,批次執行輸入資料,並透過shuffle打亂資料排序\n",
        "def iterate_minibatches(inputs, targets, batchsize, shuffle=False):\n",
        "    assert len(inputs) == len(targets)\n",
        "    if shuffle:\n",
        "        indices = np.random.permutation(len(inputs))\n",
        "    for start_idx in trange(0, len(inputs) - batchsize + 1, batchsize):\n",
        "        if shuffle:\n",
        "            excerpt = indices[start_idx:start_idx + batchsize]\n",
        "        else:\n",
        "            excerpt = slice(start_idx, start_idx + batchsize)\n",
        "        yield inputs[excerpt], targets[excerpt]"
      ],
      "execution_count": null,
      "outputs": []
    },
    {
      "cell_type": "code",
      "metadata": {
        "id": "1-GkXkxtZXMF"
      },
      "source": [
        "from IPython.display import clear_output\n",
        "train_log = []\n",
        "val_log = []\n",
        "test_log=[]\n",
        "train_loss_log=[]\n",
        "val_loss_log=[]"
      ],
      "execution_count": null,
      "outputs": []
    },
    {
      "cell_type": "markdown",
      "metadata": {
        "id": "Cnlh_GGjIgke"
      },
      "source": [
        "#####train and validation data的accuracy對照圖\n",
        "#####train and validation data的loss對照圖"
      ]
    },
    {
      "cell_type": "code",
      "metadata": {
        "id": "vPVh-ZOUZavn",
        "outputId": "74093059-f134-4ccb-eb83-c2f6fa6a2fca",
        "colab": {
          "base_uri": "https://localhost:8080/",
          "height": 690
        }
      },
      "source": [
        "for epoch in range(80):\n",
        "\n",
        "    for x_batch,y_batch in iterate_minibatches(image_train,label_train,batchsize=32,shuffle=True):\n",
        "        train(network,x_batch,y_batch)\n",
        "        \n",
        "    train_log.append(np.mean(predict(network,image_train)==label_train))\n",
        "    val_log.append(np.mean(predict(network,image_validation)==label_validation))\n",
        "    train_loss_log.append(np.mean(loss_calculate(network,image_train,label_train)))\n",
        "    val_loss_log.append(np.mean(loss_calculate(network,image_validation,label_validation)))\n",
        "\n",
        "    \n",
        "    clear_output()\n",
        "#plot training accuracy and validation accuracy   \n",
        "    print(\"Epoch\",epoch)\n",
        "    print(\"Train accuracy:\",train_log[-1])\n",
        "    print(\"Val accuracy:\",val_log[-1])\n",
        "    \n",
        "    \n",
        "    plt.plot(train_log,label='train accuracy')\n",
        "    plt.plot(val_log,label='val accuracy')\n",
        "    plt.legend(loc='best')\n",
        "    plt.title(\"Training Accuracy\")\n",
        "    plt.xlabel(\"Epoch\")\n",
        "    plt.ylabel(\"train\")\n",
        "    plt.grid()\n",
        "    plt.show()\n",
        "#plot training loss and validation loss \n",
        "    print(\"Epoch\",epoch)\n",
        "    print(\"Train Loss:\",train_loss_log[-1])\n",
        "    plt.plot(train_loss_log,label='train loss')\n",
        "    print(\"Validation Loss:\",val_loss_log[-1])\n",
        "    plt.plot(val_loss_log,label='val loss')\n",
        "    plt.legend(loc='best')\n",
        "    plt.title(\"Training Loss\")\n",
        "    plt.xlabel(\"Epoch\")\n",
        "    plt.ylabel(\"train\")\n",
        "    plt.grid()\n",
        "    plt.show()\n",
        "\n",
        "\n",
        "test_log.append(np.mean(predict(network,image_test)==label_test))\n",
        "print(\"Test accuracy\",test_log[-1])"
      ],
      "execution_count": null,
      "outputs": [
        {
          "output_type": "stream",
          "text": [
            "Epoch 79\n",
            "Train accuracy: 0.9616904761904762\n",
            "Val accuracy: 0.9538888888888889\n"
          ],
          "name": "stdout"
        },
        {
          "output_type": "display_data",
          "data": {
            "image/png": "[encoded data removed]",
            "text/plain": [
              "<Figure size 432x288 with 1 Axes>"
            ]
          },
          "metadata": {
            "tags": [],
            "needs_background": "light"
          }
        },
        {
          "output_type": "stream",
          "text": [
            "Epoch 79\n",
            "Train Loss: 0.13495464393747802\n",
            "Validation Loss: 0.16060270797532153\n"
          ],
          "name": "stdout"
        },
        {
          "output_type": "display_data",
          "data": {
            "image/png": "[encoded data removed]",
            "text/plain": [
              "<Figure size 432x288 with 1 Axes>"
            ]
          },
          "metadata": {
            "tags": [],
            "needs_background": "light"
          }
        },
        {
          "output_type": "stream",
          "text": [
            "Test accuracy 0.9559\n"
          ],
          "name": "stdout"
        }
      ]
    }
  ]
}