{
  "nbformat": 4,
  "nbformat_minor": 0,
  "metadata": {
    "colab": {
      "name": "hw3_109064518_code.ipynb",
      "provenance": [],
      "collapsed_sections": [],
      "toc_visible": true
    },
    "kernelspec": {
      "name": "python3",
      "display_name": "Python 3"
    },
    "accelerator": "TPU"
  },
  "cells": [
    {
      "cell_type": "markdown",
      "metadata": {
        "id": "Bfaa7VnqAoAi"
      },
      "source": [
        ""
      ]
    },
    {
      "cell_type": "markdown",
      "metadata": {
        "id": "xXKf5dMvAo5J"
      },
      "source": [
        "###### hw3_109064518\n",
        "###### import所需要的套件"
      ]
    },
    {
      "cell_type": "code",
      "metadata": {
        "id": "IMH-vz-isYq_",
        "colab": {
          "base_uri": "https://localhost:8080/"
        },
        "outputId": "5bea35a4-63d1-4139-80e6-c7008897498f"
      },
      "source": [
        "from pydrive.auth import GoogleAuth\r\n",
        "from pydrive.drive import GoogleDrive\r\n",
        "from google.colab import auth\r\n",
        "from oauth2client.client import GoogleCredentials\r\n",
        "from google.colab import drive\r\n",
        "drive.mount('/content/drive')\r\n"
      ],
      "execution_count": 1,
      "outputs": [
        {
          "output_type": "stream",
          "text": [
            "Mounted at /content/drive\n"
          ],
          "name": "stdout"
        }
      ]
    },
    {
      "cell_type": "code",
      "metadata": {
        "id": "7juDZ4jOOTim"
      },
      "source": [
        "import os\n",
        "import numpy as np\n",
        "import cv2\n",
        "import matplotlib.pyplot as plt\n",
        "from PIL import Image"
      ],
      "execution_count": 2,
      "outputs": []
    },
    {
      "cell_type": "code",
      "metadata": {
        "id": "S2rSFV_wrIED"
      },
      "source": [
        "def to_categorical(y, num_classes=None, dtype='float32'):##label onehot function\r\n",
        "    y = np.array(y, dtype='int')\r\n",
        "    input_shape = y.shape\r\n",
        "    if input_shape and input_shape[-1] == 1 and len(input_shape) > 1:\r\n",
        "        input_shape = tuple(input_shape[:-1])\r\n",
        "    y = y.ravel()\r\n",
        "    if not num_classes:\r\n",
        "        num_classes = np.max(y) + 1\r\n",
        "    n = y.shape[0]\r\n",
        "    categorical = np.zeros((n, num_classes), dtype=dtype)\r\n",
        "    categorical[np.arange(n), y] = 1\r\n",
        "    output_shape = input_shape + (num_classes,)\r\n",
        "    categorical = np.reshape(categorical, output_shape)\r\n",
        "    return categorical"
      ],
      "execution_count": 3,
      "outputs": []
    },
    {
      "cell_type": "markdown",
      "metadata": {
        "id": "ouNKaBHskF0f"
      },
      "source": [
        "######Load mnist-training data and test data(in colab,資料從雲端硬碟抓取)\n",
        "\n",
        "\n",
        "\n"
      ]
    },
    {
      "cell_type": "code",
      "metadata": {
        "id": "7Tawm6f3lwdv",
        "colab": {
          "base_uri": "https://localhost:8080/"
        },
        "outputId": "dd27a1a2-2ee1-4f16-9a6c-4f8d7844d551"
      },
      "source": [
        "from pylab import imread,imshow,show,subplot \r\n",
        "Carambula_img_list=[]\r\n",
        "Lychee_img_list=[]\r\n",
        "Pear_img_list=[]\r\n",
        "data_dir =r'/content/drive/My Drive/Colab Notebooks/Fruit/Data_train'\r\n",
        "for root, dirs, files in os.walk(data_dir):#os.walk會把該函數得到之位置底下所有資料夾都打開找過一次\r\n",
        "    for file in files:\r\n",
        "        if file.endswith(\".png\"):\r\n",
        "            filename = os.path.join(root, file)\r\n",
        "            category_name = os.path.basename(root)#os.path.basename這個函數來把最後一層資料夾的名稱取出來\r\n",
        "            im = imread(filename)\r\n",
        "            imarray = np.array(im)\r\n",
        "            imarray = (imarray - np.min(imarray))/(np.max(imarray)-np.min(imarray))\r\n",
        "            if category_name == 'Carambula':\r\n",
        "                Carambula_img_list.append(imarray)\r\n",
        "            elif category_name == 'Lychee':\r\n",
        "                Lychee_img_list.append(imarray)\r\n",
        "            elif category_name == 'Pear':\r\n",
        "                Pear_img_list.append(imarray)\r\n",
        "\r\n",
        "#透過np.asarray把list整理成array  \r\n",
        "Carambula_img_arr = np.asarray(Carambula_img_list)\r\n",
        "Lychee_img_arr = np.asarray(Lychee_img_list)\r\n",
        "Pear_img_arr = np.asarray(Pear_img_list)\r\n",
        "#手動製作Label標籤  \r\n",
        "Carambula_img_label = np.ones(Carambula_img_arr.shape[0])*0\r\n",
        "Lychee_img_label = np.ones(Lychee_img_arr.shape[0])*1\r\n",
        "Pear_img_label = np.ones(Pear_img_arr.shape[0])*2\r\n",
        "\r\n",
        "img_arr   = np.concatenate((Carambula_img_arr, Lychee_img_arr,Pear_img_arr), axis = 0)  #合併三個種類的圖片\r\n",
        "img_label = np.concatenate((Carambula_img_label, Lychee_img_label,Pear_img_label), axis = 0) #合併三個種類的Label\r\n",
        "img_label = to_categorical(img_label, num_classes = 3)  #將Label進行one hot轉換\r\n",
        "\r\n",
        "print(img_arr.shape)\r\n",
        "print(img_label)\r\n",
        "print(img_label.shape)"
      ],
      "execution_count": 4,
      "outputs": [
        {
          "output_type": "stream",
          "text": [
            "(1470, 32, 32, 4)\n",
            "[[1. 0. 0.]\n",
            " [1. 0. 0.]\n",
            " [1. 0. 0.]\n",
            " ...\n",
            " [0. 0. 1.]\n",
            " [0. 0. 1.]\n",
            " [0. 0. 1.]]\n",
            "(1470, 3)\n"
          ],
          "name": "stdout"
        }
      ]
    },
    {
      "cell_type": "markdown",
      "metadata": {
        "id": "o0kREELF0MDp"
      },
      "source": [
        "######將label和image進行隨機排序"
      ]
    },
    {
      "cell_type": "code",
      "metadata": {
        "id": "ZuEoJg19gjeP"
      },
      "source": [
        "import random\r\n",
        "temp = list(zip(img_arr, img_label))\r\n",
        "random.shuffle(temp)\r\n",
        "img_arr, img_label = zip(*temp)\r\n",
        "img_arr=np.asarray(img_arr)\r\n",
        "img_label=np.asarray(img_label)\r\n"
      ],
      "execution_count": 5,
      "outputs": []
    },
    {
      "cell_type": "markdown",
      "metadata": {
        "id": "M2eyDrWI1uZQ"
      },
      "source": [
        "#####分割image和label的函式(共1470筆) train:validation=7:3\r\n",
        "\r\n",
        "\r\n",
        "\r\n"
      ]
    },
    {
      "cell_type": "code",
      "metadata": {
        "id": "HVU2I1hGXbu3"
      },
      "source": [
        "def shuffle_split_data(X_image,label,flatten=False):#分割image和label的函式 train:validation=7:3\r\n",
        "\r\n",
        "    \r\n",
        "    #noramalize x\r\n",
        "    \r\n",
        "    \r\n",
        "    \r\n",
        "\r\n",
        "    # we reserve the last 18000 training examples for validation\r\n",
        "    X_train, X_validation = X_image[:-441], X_image[-441:] \r\n",
        "    y_train, y_validation = label[:-441], label[-441:]\r\n",
        "\r\n",
        "     \r\n",
        "\r\n",
        "    print(\"Image:\")\r\n",
        "    print(len(X_train),len(X_validation))\r\n",
        "    print(\"label:\")\r\n",
        "    print(len(y_train),len(y_validation))\r\n",
        "    return X_train,X_validation,y_train,y_validation"
      ],
      "execution_count": 6,
      "outputs": []
    },
    {
      "cell_type": "code",
      "metadata": {
        "colab": {
          "base_uri": "https://localhost:8080/"
        },
        "id": "KAEKB4Xe09Rp",
        "outputId": "5756ee5b-8279-4466-a23c-cbc8214f22a8"
      },
      "source": [
        "import matplotlib.pyplot as plt\r\n",
        "import matplotlib.image as mpimg\r\n",
        "import numpy\r\n",
        "import sys\r\n",
        "# image_resize=np.reshape(img_arr,(1470,-1))\r\n",
        "# label_resize=np.reshape(img_label,(1470,-1))\r\n",
        "image_train,image_validation,label_train,label_validation,=shuffle_split_data(img_arr,img_label,flatten=True)\r\n",
        "print(image_train.shape)\r\n",
        "\r\n",
        "new_image1=image_train.reshape(1029, 4, 32, 32)\r\n",
        "new_valimage1=image_validation.reshape(441, 4, 32, 32)\r\n",
        "print(type(image_train))"
      ],
      "execution_count": 7,
      "outputs": [
        {
          "output_type": "stream",
          "text": [
            "Image:\n",
            "1029 441\n",
            "label:\n",
            "1029 441\n",
            "(1029, 32, 32, 4)\n",
            "<class 'numpy.ndarray'>\n"
          ],
          "name": "stdout"
        }
      ]
    },
    {
      "cell_type": "code",
      "metadata": {
        "colab": {
          "base_uri": "https://localhost:8080/"
        },
        "id": "qbDbvfSQqnMH",
        "outputId": "32f0f246-9373-4c0e-e731-b39103d4e900"
      },
      "source": [
        "%cd /content/drive/My Drive/Colab Notebooks/Fruit/src\r\n",
        "from utils import *\r\n",
        "from layers import *\r\n",
        "from model import LeNet5\r\n",
        "import numpy as np\r\n",
        "import pickle\r\n",
        "import matplotlib.pyplot as plt\r\n",
        "from tqdm import trange\r\n",
        "from timeit import default_timer as timer"
      ],
      "execution_count": 8,
      "outputs": [
        {
          "output_type": "stream",
          "text": [
            "/content/drive/My Drive/Colab Notebooks/Fruit/src\n"
          ],
          "name": "stdout"
        }
      ]
    },
    {
      "cell_type": "markdown",
      "metadata": {
        "id": "DLMCu-Qe7r86"
      },
      "source": [
        "######Train function"
      ]
    },
    {
      "cell_type": "code",
      "metadata": {
        "id": "INTfmhvEFKIS"
      },
      "source": [
        "from IPython.display import clear_output\r\n",
        "import time\r\n",
        "import math\r\n",
        "import matplotlib\r\n",
        "import pylab\r\n",
        "import matplotlib.pyplot as plt"
      ],
      "execution_count": 9,
      "outputs": []
    },
    {
      "cell_type": "code",
      "metadata": {
        "id": "l8aJyZr65peo"
      },
      "source": [
        "train_log = []\r\n",
        "val_log = []\r\n",
        "train_loss_log=[]\r\n",
        "val_loss_log=[]\r\n",
        "test_log=[]\r\n",
        "test_loss_log=[]\r\n",
        "\r\n",
        "\r\n",
        "info_train = \"train-loss: {:0.6f} | train-acc: {:0.3f}\"   \r\n",
        "info_val =  \"val-loss: {:0.6f} | val-acc: {:0.3f}\" "
      ],
      "execution_count": 10,
      "outputs": []
    },
    {
      "cell_type": "code",
      "metadata": {
        "id": "SK2g6xjY-Gmc"
      },
      "source": [
        "def train():\r\n",
        "  model = LeNet5()\r\n",
        "  cost = CrossEntropyLoss()\r\n",
        "  lr = 0.0005\r\n",
        "\r\n",
        "  optimizer = AdamGD(lr = lr, beta1 = 0.9, beta2 = 0.999, epsilon = 1e-8, params = model.get_params())    \r\n",
        "  train_costs, val_costs = [], []\r\n",
        "  # image_train1 = resize_dataset(image_train)\r\n",
        "  # image_validation1 = resize_dataset(image_validation)\r\n",
        "  print(\"----------------TRAINING-----------------\\n\")\r\n",
        "\r\n",
        "  NB_EPOCH = 25\r\n",
        "  BATCH_SIZE = 32\r\n",
        "\r\n",
        "  # print(\"EPOCHS: {}\".format(NB_EPOCH))\r\n",
        "  # print(\"BATCH_SIZE: {}\".format(BATCH_SIZE))\r\n",
        "  # print(\"LR: {}\".format(lr))\r\n",
        "  # print()\r\n",
        "\r\n",
        "  nb_train_examples = len(new_image1)\r\n",
        "  nb_val_examples = len(new_valimage1)\r\n",
        "\r\n",
        "  best_val_loss = float('inf')\r\n",
        "\r\n",
        "  for epoch in range(NB_EPOCH):\r\n",
        "          val_loss = 0\r\n",
        "          val_acc = 0 \r\n",
        "          train_loss = 0\r\n",
        "          train_acc = 0 \r\n",
        "\r\n",
        "             #TRAINING PART\r\n",
        "    #\r\n",
        "    #-------------------------------------------------------------------------------\r\n",
        "          \r\n",
        "         \r\n",
        "\r\n",
        "          pbar = trange(nb_train_examples // BATCH_SIZE)\r\n",
        "          train_loader = dataloader(new_image1, label_train, BATCH_SIZE)\r\n",
        "\r\n",
        "          start = timer()\r\n",
        "          for i, (X_batch, y_batch) in zip(pbar, train_loader):\r\n",
        "              \r\n",
        "              y_pred = model.forward(X_batch)\r\n",
        "              loss = cost.get(y_pred, y_batch)\r\n",
        "\r\n",
        "              grads = model.backward(y_pred, y_batch)\r\n",
        "              params = optimizer.update_params(grads)\r\n",
        "              model.set_params(params)\r\n",
        "\r\n",
        "              train_loss += loss * BATCH_SIZE\r\n",
        "              train_acc += sum((np.argmax(y_batch, axis=1) == np.argmax(y_pred, axis=1)))\r\n",
        "\r\n",
        "              # pbar.set_description(\"[Train] Epoch {}\".format(epoch+1))\r\n",
        "          \r\n",
        "          end = timer()\r\n",
        "                  \r\n",
        "     #                               VALIDATION PART\r\n",
        "        #\r\n",
        "        #-------------------------------------------------------------------------------\r\n",
        "\r\n",
        "\r\n",
        "\r\n",
        "          pbar = trange(nb_val_examples // BATCH_SIZE)\r\n",
        "          val_loader = dataloader(new_valimage1, label_validation, BATCH_SIZE)\r\n",
        "\r\n",
        "          for i, (X_batch, y_batch) in zip(pbar, val_loader):\r\n",
        "              \r\n",
        "              y_pred = model.forward(X_batch)\r\n",
        "              loss = cost.get(y_pred, y_batch)\r\n",
        "              \r\n",
        "              grads = model.backward(y_pred, y_batch)\r\n",
        "              params = optimizer.update_params(grads)\r\n",
        "              model.set_params(params)\r\n",
        "\r\n",
        "              val_loss += loss * BATCH_SIZE\r\n",
        "              val_acc += sum((np.argmax(y_batch, axis=1) == np.argmax(y_pred, axis=1)))\r\n",
        "\r\n",
        "              # pbar.set_description(\"[Val] Epoch {}\".format(epoch+1))\r\n",
        "\r\n",
        "\r\n",
        "\r\n",
        "          \r\n",
        "          train_loss /= nb_train_examples\r\n",
        "          train_costs.append(np.mean(train_loss))\r\n",
        "          train_acc /= nb_train_examples\r\n",
        "          train_log.append(np.mean(train_acc))\r\n",
        "          train_loss_log.append(np.mean(train_loss))\r\n",
        "\r\n",
        "         \r\n",
        "\r\n",
        "          val_loss /= nb_val_examples\r\n",
        "          val_costs.append(np.mean(val_loss))\r\n",
        "          val_acc /= nb_val_examples\r\n",
        "          val_log.append(np.mean(val_acc))\r\n",
        "          val_loss_log.append(np.mean(val_loss))\r\n",
        "          pbar.close()\r\n",
        "          clear_output()\r\n",
        "          \r\n",
        "          # print(info_val.format(val_loss, val_acc))\r\n",
        "          #plot training accuracy and validation accuracy  \r\n",
        "          fig = plt.figure(figsize=(10,10))\r\n",
        "          fig.add_subplot(2, 1, 2)\r\n",
        "          print(\"epoch\",epoch)\r\n",
        "          print(\"Train accuracy:\",train_log[-1])\r\n",
        "          print(\"Val accuracy:\",val_log[-1])\r\n",
        "          plt.plot(train_log,label='train accuracy')\r\n",
        "          plt.plot(val_log,label='val accuracy')\r\n",
        "          plt.legend(loc='best')\r\n",
        "          plt.title(\"Training and Validation accuracy\")\r\n",
        "          plt.xlabel(\"epoch\")\r\n",
        "          plt.ylabel(\"accuracy\")\r\n",
        "          plt.grid()\r\n",
        "          plt.show()\r\n",
        "          if best_val_loss > val_loss:\r\n",
        "              print(\"Validation loss decreased from {:0.6f} to {:0.6f}. Model saved\".format(best_val_loss, val_loss))\r\n",
        "              save_params_to_file(model)\r\n",
        "              best_val_loss = val_loss\r\n",
        "\r\n",
        "          # print()\r\n",
        "          # print(info_train.format(train_loss, train_acc))\r\n",
        "          # print()\r\n",
        "          print(f\"Elapsed time for epoch {epoch+1}: {(end-start)/60} min.\", end=\"\\n\")\r\n",
        "          #plot training loss and validation loss  \r\n",
        "          fig = plt.figure(figsize=(10,10))\r\n",
        "          fig.add_subplot(2, 1, 1)\r\n",
        "          print(\"Epoch\",epoch)\r\n",
        "          print(\"Train Loss:\",train_loss_log[-1])\r\n",
        "          print(\"Validation Loss:\",val_loss_log[-1])\r\n",
        "          plt.plot(train_loss_log,label='train loss')\r\n",
        "          plt.plot(val_loss_log,label='val loss')\r\n",
        "          plt.legend(loc='best')\r\n",
        "          plt.title(\"Training and Validation loss\")\r\n",
        "          plt.xlabel(\"Epoch\")\r\n",
        "          plt.ylabel(\"Loss\")\r\n",
        "          plt.grid()\r\n",
        "          plt.show()\r\n",
        "      \r\n",
        " \r\n"
      ],
      "execution_count": 11,
      "outputs": []
    },
    {
      "cell_type": "code",
      "metadata": {
        "colab": {
          "base_uri": "https://localhost:8080/",
          "height": 775
        },
        "id": "pBIMTrj0bqbL",
        "outputId": "41330a4f-a2bc-47d2-cf62-6e202dcaf2da"
      },
      "source": [
        "train()"
      ],
      "execution_count": 12,
      "outputs": [
        {
          "output_type": "stream",
          "text": [
            "epoch 24\n",
            "Train accuracy: 0.9951409135082604\n",
            "Val accuracy: 0.9433106575963719\n"
          ],
          "name": "stdout"
        },
        {
          "output_type": "display_data",
          "data": {
            "image/png": "[encoded data removed]",
            "text/plain": [
              "<Figure size 720x720 with 1 Axes>"
            ]
          },
          "metadata": {
            "tags": [],
            "needs_background": "light"
          }
        },
        {
          "output_type": "stream",
          "text": [
            "Validation loss decreased from 0.014564 to 0.013596. Model saved\n",
            "Elapsed time for epoch 25: 0.26004229528333556 min.\n",
            "Epoch 24\n",
            "Train Loss: 0.015619788127490528\n",
            "Validation Loss: 0.013595759036978088\n"
          ],
          "name": "stdout"
        },
        {
          "output_type": "display_data",
          "data": {
            "image/png": "[encoded data removed]",
            "text/plain": [
              "<Figure size 720x720 with 1 Axes>"
            ]
          },
          "metadata": {
            "tags": [],
            "needs_background": "light"
          }
        }
      ]
    },
    {
      "cell_type": "markdown",
      "metadata": {
        "id": "L4ioQGNI7jwK"
      },
      "source": [
        "######讀取Test檔"
      ]
    },
    {
      "cell_type": "code",
      "metadata": {
        "colab": {
          "base_uri": "https://localhost:8080/"
        },
        "id": "pSQnZVAD90L5",
        "outputId": "00d44132-8e82-4ec6-aa2a-4a9fbab8bd9f"
      },
      "source": [
        "from pylab import imread,imshow,show,subplot \r\n",
        "Carambula_img_list1=[]\r\n",
        "Lychee_img_list1=[]\r\n",
        "Pear_img_list1=[]\r\n",
        "data_dir =r'/content/drive/My Drive/Colab Notebooks/Fruit/Data_test'\r\n",
        "for root, dirs, files in os.walk(data_dir):#os.walk會把該函數得到之位置底下所有資料夾都打開找過一次\r\n",
        "    for file in files:\r\n",
        "        if file.endswith(\".png\"):\r\n",
        "            filename = os.path.join(root, file)\r\n",
        "            category_name = os.path.basename(root)#os.path.basename這個函數來把最後一層資料夾的名稱取出來\r\n",
        "            im = imread(filename)\r\n",
        "            imarray = np.array(im)\r\n",
        "            imarray = (imarray - np.min(imarray))/(np.max(imarray)-np.min(imarray))\r\n",
        "            if category_name == 'Carambula':\r\n",
        "                Carambula_img_list1.append(imarray)\r\n",
        "            elif category_name == 'Lychee':\r\n",
        "                Lychee_img_list1.append(imarray)\r\n",
        "            elif category_name == 'Pear':\r\n",
        "                Pear_img_list1.append(imarray)\r\n",
        "\r\n",
        "#透過np.asarray把list整理成array  \r\n",
        "Carambula_img_arr1 = np.asarray(Carambula_img_list1)\r\n",
        "Lychee_img_arr1 = np.asarray(Lychee_img_list1)\r\n",
        "Pear_img_arr1 = np.asarray(Pear_img_list1)\r\n",
        "#手動製作Label標籤  \r\n",
        "Carambula_img_label1 = np.ones(Carambula_img_arr1.shape[0])*0\r\n",
        "Lychee_img_label1 = np.ones(Lychee_img_arr1.shape[0])*1\r\n",
        "Pear_img_label1 = np.ones(Pear_img_arr1.shape[0])*2\r\n",
        "\r\n",
        "img_arr1   = np.concatenate((Carambula_img_arr1, Lychee_img_arr1,Pear_img_arr1), axis = 0)  #合併三個種類的圖片\r\n",
        "img_label1 = np.concatenate((Carambula_img_label1, Lychee_img_label1,Pear_img_label1), axis = 0) #合併三個種類的Label\r\n",
        "img_label1 = to_categorical(img_label1, num_classes = 3)  #將Label進行one hot轉換\r\n",
        "\r\n",
        "print(img_arr1.shape)\r\n",
        "print(img_label1.shape)"
      ],
      "execution_count": 13,
      "outputs": [
        {
          "output_type": "stream",
          "text": [
            "(498, 32, 32, 4)\n",
            "(498, 3)\n"
          ],
          "name": "stdout"
        }
      ]
    },
    {
      "cell_type": "code",
      "metadata": {
        "id": "wNI1N29H9g0K"
      },
      "source": [
        "import random\r\n",
        "temp = list(zip(img_arr1, img_label1))\r\n",
        "random.shuffle(temp)\r\n",
        "img_arr1, img_label1 = zip(*temp)\r\n",
        "img_arr1=np.asarray(img_arr1)\r\n",
        "img_label1=np.asarray(img_label1)"
      ],
      "execution_count": 14,
      "outputs": []
    },
    {
      "cell_type": "code",
      "metadata": {
        "id": "l7wne_VS-MK1",
        "colab": {
          "base_uri": "https://localhost:8080/"
        },
        "outputId": "fb649e3c-ec55-4d75-ad18-71b0aba17b32"
      },
      "source": [
        "test_image1=img_arr1.reshape(498, 4, 32, 32)\r\n",
        "print(test_image1.shape)\r\n",
        "print(img_label1.shape)\r\n",
        "print(type(test_image1))"
      ],
      "execution_count": 15,
      "outputs": [
        {
          "output_type": "stream",
          "text": [
            "(498, 4, 32, 32)\n",
            "(498, 3)\n",
            "<class 'numpy.ndarray'>\n"
          ],
          "name": "stdout"
        }
      ]
    },
    {
      "cell_type": "markdown",
      "metadata": {
        "id": "l7sc_DyVrqJv"
      },
      "source": [
        "######測試test accuarcy"
      ]
    },
    {
      "cell_type": "code",
      "metadata": {
        "id": "o3VE8xDh7i-6"
      },
      "source": [
        "def test(isNotebook=False):\r\n",
        "    print(\"\\n--------------LOAD PRETRAINED MODEL--------------\\n\")\r\n",
        "    cost = CrossEntropyLoss()\r\n",
        "    model = LeNet5()\r\n",
        "    model = load_params_from_file(model, isNotebook=isNotebook)\r\n",
        "    print(\"Load pretrained model: OK\\n\")\r\n",
        "\r\n",
        "    print(\"--------------------EVALUATION-------------------\\n\")\r\n",
        "    \r\n",
        "    BATCH_SIZE = 32\r\n",
        "\r\n",
        "    nb_test_examples = len(test_image1)\r\n",
        "    test_loss = 0\r\n",
        "    test_acc = 0 \r\n",
        "\r\n",
        "    pbar = trange(nb_test_examples // BATCH_SIZE)\r\n",
        "    test_loader = dataloader(test_image1, img_label1, BATCH_SIZE)\r\n",
        "    for i, (X_batch, y_batch) in zip(pbar, test_loader):\r\n",
        "        \r\n",
        "          y_pred = model.forward(X_batch)\r\n",
        "          loss = cost.get(y_pred, y_batch)\r\n",
        "\r\n",
        "          test_loss += loss * BATCH_SIZE\r\n",
        "          test_acc += sum((np.argmax(y_batch, axis=1) == np.argmax(y_pred, axis=1)))\r\n",
        "          \r\n",
        "          \r\n",
        "    \r\n",
        "    test_loss /= nb_test_examples\r\n",
        "    test_acc /= nb_test_examples\r\n",
        "    info_test = \"test-loss: {:0.6f} | test-acc: {:0.3f}\"\r\n",
        "    print(info_test.format(test_loss, test_acc))\r\n",
        "    \r\n",
        " "
      ],
      "execution_count": 16,
      "outputs": []
    },
    {
      "cell_type": "code",
      "metadata": {
        "colab": {
          "base_uri": "https://localhost:8080/"
        },
        "id": "8hb9Jz78EIzo",
        "outputId": "3776ed48-e122-4db7-ccfb-bb40aa678eee"
      },
      "source": [
        "test(isNotebook=False)"
      ],
      "execution_count": 17,
      "outputs": [
        {
          "output_type": "stream",
          "text": [
            "\r  0%|          | 0/15 [00:00<?, ?it/s]"
          ],
          "name": "stderr"
        },
        {
          "output_type": "stream",
          "text": [
            "\n",
            "--------------LOAD PRETRAINED MODEL--------------\n",
            "\n",
            "Load pretrained model: OK\n",
            "\n",
            "--------------------EVALUATION-------------------\n",
            "\n",
            "(100, 25088)\n",
            "(150, 3200)\n",
            "(100, 25088)\n",
            "(150, 3200)\n",
            "(100, 25088)\n"
          ],
          "name": "stdout"
        },
        {
          "output_type": "stream",
          "text": [
            "\r 20%|██        | 3/15 [00:00<00:00, 20.18it/s]"
          ],
          "name": "stderr"
        },
        {
          "output_type": "stream",
          "text": [
            "(150, 3200)\n",
            "(100, 25088)\n"
          ],
          "name": "stdout"
        },
        {
          "output_type": "stream",
          "text": [
            "\r 33%|███▎      | 5/15 [00:00<00:00, 19.29it/s]"
          ],
          "name": "stderr"
        },
        {
          "output_type": "stream",
          "text": [
            "(150, 3200)\n",
            "(100, 25088)\n",
            "(150, 3200)\n",
            "(100, 25088)\n",
            "(150, 3200)\n",
            "(100, 25088)\n"
          ],
          "name": "stdout"
        },
        {
          "output_type": "stream",
          "text": [
            "\r 47%|████▋     | 7/15 [00:00<00:00, 18.71it/s]"
          ],
          "name": "stderr"
        },
        {
          "output_type": "stream",
          "text": [
            "(150, 3200)\n",
            "(100, 25088)\n"
          ],
          "name": "stdout"
        },
        {
          "output_type": "stream",
          "text": [
            "\r 60%|██████    | 9/15 [00:00<00:00, 18.64it/s]"
          ],
          "name": "stderr"
        },
        {
          "output_type": "stream",
          "text": [
            "(150, 3200)\n",
            "(100, 25088)\n",
            "(150, 3200)\n",
            "(100, 25088)\n",
            "(150, 3200)\n",
            "(100, 25088)\n"
          ],
          "name": "stdout"
        },
        {
          "output_type": "stream",
          "text": [
            "\r 73%|███████▎  | 11/15 [00:00<00:00, 18.32it/s]"
          ],
          "name": "stderr"
        },
        {
          "output_type": "stream",
          "text": [
            "(150, 3200)\n",
            "(100, 25088)\n"
          ],
          "name": "stdout"
        },
        {
          "output_type": "stream",
          "text": [
            "\r 87%|████████▋ | 13/15 [00:00<00:00, 18.69it/s]"
          ],
          "name": "stderr"
        },
        {
          "output_type": "stream",
          "text": [
            "(150, 3200)\n",
            "(100, 25088)\n",
            "(150, 3200)\n",
            "(100, 25088)\n",
            "(150, 3200)\n",
            "(100, 25088)\n"
          ],
          "name": "stdout"
        },
        {
          "output_type": "stream",
          "text": [
            "100%|██████████| 15/15 [00:00<00:00, 18.59it/s]"
          ],
          "name": "stderr"
        },
        {
          "output_type": "stream",
          "text": [
            "(150, 3200)\n",
            "test-loss: 1.781195 | test-acc: 0.942\n"
          ],
          "name": "stdout"
        },
        {
          "output_type": "stream",
          "text": [
            "\n"
          ],
          "name": "stderr"
        }
      ]
    }
  ]
}